{
 "cells": [
  {
   "cell_type": "code",
   "execution_count": null,
   "metadata": {
    "collapsed": false
   },
   "outputs": [],
   "source": []
  },
  {
   "cell_type": "code",
   "execution_count": 1,
   "metadata": {
    "collapsed": false
   },
   "outputs": [],
   "source": [
    "import pandas as pd\n",
    "import numpy as np"
   ]
  },
  {
   "cell_type": "code",
   "execution_count": null,
   "metadata": {
    "collapsed": false
   },
   "outputs": [],
   "source": []
  },
  {
   "cell_type": "code",
   "execution_count": 2,
   "metadata": {
    "collapsed": false
   },
   "outputs": [],
   "source": [
    "# from numba import vectorize\n",
    "class Features():\n",
    "    def __init__(self, nsn, nal):\n",
    "        self.D = {}\n",
    "        self.nsn = nsn\n",
    "        self.nal = nal\n",
    "        self.nt = nal - nsn\n",
    "        \n",
    "#     @vectorize\n",
    "    def dicinc(self, x, cl):\n",
    "#         x, cl = w\n",
    "        try:\n",
    "            y = self.D[x]\n",
    "            y[0] += 1\n",
    "            if cl == 1.0:\n",
    "                y[1] += 1 #if cl == 1.0 else -1\n",
    "        except KeyError:\n",
    "            self.D[x] = [1, 1] #if cl == 1.0 else [1, -1]\n",
    "#     @vectorize\n",
    "    def spliter(self, x, cl, ps=2):\n",
    "        l = len(x)\n",
    "        for i in range(0, l - ps + 1):\n",
    "             self.dicinc(x[i:i+ps], cl)\n",
    "    def dicsort(self):\n",
    "        for key in self.D:\n",
    "            y = self.D[key]\n",
    "            a1 = y[1]\n",
    "            a0 = y[0] - y[1]\n",
    "            b1 = self.nsn - y[1]\n",
    "            b0 = self.nt - a0\n",
    "            y[1] = (a1*b0 - a0*b1) / self.nal / self.nal\n",
    "    def tolist(self):\n",
    "        l = list(map(lambda x: (self.D[x])[1], self.D))\n",
    "#         print(l)\n",
    "        l.sort()\n",
    "        return l, l[0:5], l[-5:-1]\n",
    "    def get_feature(self, x, ps=2):\n",
    "        wl = []\n",
    "#         x.lower()\n",
    "        l = len(x)\n",
    "        for i in range(0, l - ps + 1):\n",
    "            fr = x[i:i+ps]\n",
    "            try:\n",
    "                y = self.D[fr]\n",
    "                wl.append(y[1])\n",
    "            except KeyError:\n",
    "                continue\n",
    "#         wl.sort()\n",
    "        if len(wl) == 0:\n",
    "            return 0.0\n",
    "#         ma = np.mean(np.array(wl))\n",
    "        ma = max(wl)\n",
    "        return ma if ma >= 0.0 else min(wl)\n",
    "            \n",
    "# spliter('ва')"
   ]
  },
  {
   "cell_type": "code",
   "execution_count": 5,
   "metadata": {
    "collapsed": false
   },
   "outputs": [
    {
     "name": "stdout",
     "output_type": "stream",
     "text": [
      "[-0.0091827110183224179, -0.0059274448581890619, -0.0054804202910119244, -0.0047556112056476429, -0.0044134493168002664] [0.0034716230579157049, 0.0042655668054941368, 0.0048349382303353701, 0.0055311911193519255]\n"
     ]
    }
   ],
   "source": [
    "# file = open('linear_train.txt', 'r')\n",
    "# lo = list(map(lambda x: [x[0], float(x[1])], map(lambda x: x.split(', '), map(str.rstrip, file.readlines()))))\n",
    "# file.close()\n",
    "raw = pd.read_csv('linear_train.txt', header=None)\n",
    "f = np.vectorize(lambda x: x[-5:])\n",
    "slow = np.vectorize(str.lower)\n",
    "suffs = slow(f(raw[0].values))\n",
    "# suffs = f(raw[0].values)\n",
    "clses = raw[1].values\n",
    "\n",
    "F = Features(np.sum(clses), clses.size)\n",
    "# F.spliter(suffs, clses)\n",
    "list(map(lambda x, y: F.spliter(x, y), suffs, clses))\n",
    "# F.D\n",
    "F.dicsort()\n",
    "l, mi, ma = F.tolist()\n",
    "print(mi, ma)\n",
    "# F.D['ин']\n",
    "# print(F.nsn, F.nal)\n",
    "gf = np.array(list(map(F.get_feature, suffs)))\n",
    "ma = np.amax(gf)\n",
    "mi = np.amin(gf)\n",
    "# print(ma)\n",
    "feres = pd.DataFrame({'5_2': gf})\n"
   ]
  },
  {
   "cell_type": "code",
   "execution_count": 6,
   "metadata": {
    "collapsed": false
   },
   "outputs": [
    {
     "name": "stdout",
     "output_type": "stream",
     "text": [
      "он [3467, 0.0048349382303353701]\n",
      "ар [2523, 0.0011077017216400279]\n",
      "ро [3933, 0.0011381413083400738]\n",
      "на [3519, 0.0024933581356264604]\n",
      "но [4734, 0.0013350954346953929]\n",
      "ов [6557, 0.0064408256783926926]\n",
      "ко [4737, 0.0022096348310082455]\n",
      "ом [6342, 0.0026201620003851608]\n",
      "ин [4046, 0.0042655668054941368]\n",
      "вы [533, 0.0019533638272772255]\n",
      "ым [494, 0.0017964848402464272]\n",
      "ев [1305, 0.0027917090275204701]\n",
      "са [1564, 0.0011037764358613306]\n",
      "со [1601, 0.0034716230579157049]\n",
      "ва [4317, 0.001105769710099346]\n",
      "ву [629, 0.0012623859482282457]\n",
      "лл [723, 0.0021907064078948587]\n",
      "бе [718, 0.0010914293768043829]\n",
      "ер [4710, 0.0055311911193519255]\n",
      "рд [620, 0.0012716961278602141]\n",
      "ай [660, 0.0012500398615950654]\n",
      "ну [1215, 0.0016916110762857203]\n",
      "нс [750, 0.0022909708831990168]\n",
      "ск [1281, 0.0023727842009747314]\n",
      "йн [375, 0.0011504160190687416]\n",
      "нг [783, 0.0012707180640351599]\n",
      "нд [876, 0.0010463178603047569]\n",
      "тт [252, 0.0010508485771209158]\n"
     ]
    }
   ],
   "source": [
    "for key in F.D:\n",
    "    y = F.D[key]\n",
    "    if y[1] >= 0.001:\n",
    "        print(key, y)"
   ]
  },
  {
   "cell_type": "code",
   "execution_count": 47,
   "metadata": {
    "collapsed": false
   },
   "outputs": [],
   "source": [
    "# fff = pd.read_csv('linear_test.txt', header=None)\n",
    "# fff\n",
    "# # file = open('linear_test.txt', 'r')\n",
    "# # lo = list(map(lambda x: [x[0], float(x[1])], map(lambda x: x.split(', '), map(str.rstrip, file.readlines()))))\n",
    "# # file.close()\n",
    "# # raw = pd.DataFrame(lo)\n",
    "# f = np.vectorize(lambda x: x[-5:])\n",
    "# slow = np.vectorize(str.lower)\n",
    "# # suffs = slow(f(raw[0].values))\n",
    "# # f = np.vectorize(lambda x: x[-5:])\n",
    "# suffs = slow(f(fff[0].values))\n",
    "# # clses = fff[1].values\n"
   ]
  },
  {
   "cell_type": "code",
   "execution_count": 7,
   "metadata": {
    "collapsed": false
   },
   "outputs": [
    {
     "name": "stdout",
     "output_type": "stream",
     "text": [
      "[-2.10909681 -2.11162849 -2.06608198 ..., -2.07156372 -2.10981941\n",
      " -2.09135764]\n",
      "0.703203509866\n"
     ]
    },
    {
     "data": {
      "image/png": "[encoded data removed]",
      "text/plain": [
       "<matplotlib.figure.Figure at 0x4dddfd0>"
      ]
     },
     "metadata": {},
     "output_type": "display_data"
    }
   ],
   "source": [
    "from sklearn import linear_model\n",
    "from sklearn.model_selection import train_test_split, cross_val_score, cross_val_predict\n",
    "from sklearn.metrics import accuracy_score, roc_curve, auc\n",
    "import matplotlib.pyplot as plt\n",
    "X = gf.reshape((gf.size, 1))\n",
    "Y = clses\n",
    "# X_test = np.array(list(map(F.get_feature, suffs)))\n",
    "X_train, X_test, y_train, y_test = train_test_split(\n",
    "    X, Y, test_size=0.7, random_state=42)\n",
    "\n",
    "clf = linear_model.SGDClassifier(loss='log', penalty='none')\n",
    "clf.fit(X_train, y_train)\n",
    "y_score = clf.decision_function(X_test.reshape((X_test.size, 1)))\n",
    "print(y_score)\n",
    "fpr, tpr, _ = roc_curve(y_test, y_score)\n",
    "roc_auc = auc(fpr, tpr)\n",
    "print(roc_auc)\n",
    "plt.plot(fpr, tpr)\n",
    "plt.show()\n",
    "# y_pred = cross_val_predict(clf, X_train, y_train, cv=10)\n",
    "# accuracy_score(y_test, y_pred)\n",
    "# res = pd.DataFrame(y_pred)\n",
    "# res.to_csv('res1.txt')\n",
    "# print(y_test.size, y_pred.size)\n",
    "# print(y_pred)"
   ]
  },
  {
   "cell_type": "code",
   "execution_count": 13,
   "metadata": {
    "collapsed": false
   },
   "outputs": [
    {
     "data": {
      "text/html": [
       "<div>\n",
       "<table border=\"1\" class=\"dataframe\">\n",
       "  <thead>\n",
       "    <tr style=\"text-align: right;\">\n",
       "      <th></th>\n",
       "      <th>0</th>\n",
       "      <th>r5_2</th>\n",
       "      <th>r4_2</th>\n",
       "      <th>r3_2</th>\n",
       "      <th>r2_2</th>\n",
       "      <th>r5_3</th>\n",
       "      <th>r4_3</th>\n",
       "      <th>r3_3</th>\n",
       "      <th>r5_4</th>\n",
       "      <th>r4_4</th>\n",
       "      <th>tit</th>\n",
       "      <th>caps</th>\n",
       "    </tr>\n",
       "  </thead>\n",
       "  <tbody>\n",
       "    <tr>\n",
       "      <th>0</th>\n",
       "      <td>Аалто</td>\n",
       "      <td>0.000403</td>\n",
       "      <td>0.000589</td>\n",
       "      <td>0.000081</td>\n",
       "      <td>0.000051</td>\n",
       "      <td>0.000326</td>\n",
       "      <td>0.000142</td>\n",
       "      <td>0.000009</td>\n",
       "      <td>0.000007</td>\n",
       "      <td>0.000009</td>\n",
       "      <td>1.0</td>\n",
       "      <td>0.0</td>\n",
       "    </tr>\n",
       "    <tr>\n",
       "      <th>1</th>\n",
       "      <td>ААР</td>\n",
       "      <td>0.001108</td>\n",
       "      <td>0.000534</td>\n",
       "      <td>0.000136</td>\n",
       "      <td>0.000025</td>\n",
       "      <td>0.000006</td>\n",
       "      <td>0.000009</td>\n",
       "      <td>0.000009</td>\n",
       "      <td>0.000000</td>\n",
       "      <td>0.000000</td>\n",
       "      <td>0.0</td>\n",
       "      <td>1.0</td>\n",
       "    </tr>\n",
       "    <tr>\n",
       "      <th>2</th>\n",
       "      <td>Аара</td>\n",
       "      <td>0.001108</td>\n",
       "      <td>0.000534</td>\n",
       "      <td>0.000622</td>\n",
       "      <td>0.001097</td>\n",
       "      <td>0.000006</td>\n",
       "      <td>0.000010</td>\n",
       "      <td>0.000062</td>\n",
       "      <td>0.000000</td>\n",
       "      <td>0.000000</td>\n",
       "      <td>1.0</td>\n",
       "      <td>0.0</td>\n",
       "    </tr>\n",
       "    <tr>\n",
       "      <th>3</th>\n",
       "      <td>Ааре</td>\n",
       "      <td>0.001108</td>\n",
       "      <td>0.000688</td>\n",
       "      <td>0.000179</td>\n",
       "      <td>-0.000037</td>\n",
       "      <td>0.000072</td>\n",
       "      <td>0.000009</td>\n",
       "      <td>-0.000032</td>\n",
       "      <td>0.000000</td>\n",
       "      <td>0.000000</td>\n",
       "      <td>1.0</td>\n",
       "      <td>0.0</td>\n",
       "    </tr>\n",
       "    <tr>\n",
       "      <th>4</th>\n",
       "      <td>Аарон</td>\n",
       "      <td>0.004835</td>\n",
       "      <td>0.004647</td>\n",
       "      <td>0.003885</td>\n",
       "      <td>0.001556</td>\n",
       "      <td>0.000273</td>\n",
       "      <td>0.000143</td>\n",
       "      <td>0.000040</td>\n",
       "      <td>0.000061</td>\n",
       "      <td>0.000016</td>\n",
       "      <td>1.0</td>\n",
       "      <td>0.0</td>\n",
       "    </tr>\n",
       "  </tbody>\n",
       "</table>\n",
       "</div>"
      ],
      "text/plain": [
       "       0      r5_2      r4_2      r3_2      r2_2      r5_3      r4_3  \\\n",
       "0  Аалто  0.000403  0.000589  0.000081  0.000051  0.000326  0.000142   \n",
       "1    ААР  0.001108  0.000534  0.000136  0.000025  0.000006  0.000009   \n",
       "2   Аара  0.001108  0.000534  0.000622  0.001097  0.000006  0.000010   \n",
       "3   Ааре  0.001108  0.000688  0.000179 -0.000037  0.000072  0.000009   \n",
       "4  Аарон  0.004835  0.004647  0.003885  0.001556  0.000273  0.000143   \n",
       "\n",
       "       r3_3      r5_4      r4_4  tit  caps  \n",
       "0  0.000009  0.000007  0.000009  1.0   0.0  \n",
       "1  0.000009  0.000000  0.000000  0.0   1.0  \n",
       "2  0.000062  0.000000  0.000000  1.0   0.0  \n",
       "3 -0.000032  0.000000  0.000000  1.0   0.0  \n",
       "4  0.000040  0.000061  0.000016  1.0   0.0  "
      ]
     },
     "execution_count": 13,
     "metadata": {},
     "output_type": "execute_result"
    }
   ],
   "source": [
    "# file = open('linear_train.txt', 'r')\n",
    "# lo = list(map(lambda x: [x[0], float(x[1])], map(lambda x: x.split(', '), map(str.rstrip, file.readlines()))))\n",
    "# file.close()\n",
    "raw = pd.read_csv('linear_train.txt', header=None)\n",
    "clses = raw[1].values\n",
    "slow = np.vectorize(str.lower)\n",
    "\n",
    "fff_test = pd.read_csv('linear_test.txt', header=None)\n",
    "\n",
    "for j in [2, 3, 4]:\n",
    "    for i in range(5, j - 1, -1):\n",
    "        f = np.vectorize(lambda x: x[-i:])\n",
    "        suffs = slow(f(raw[0].values))\n",
    "        suffs_t = slow(f(fff_test[0].values))\n",
    "        F = Features(np.sum(clses), clses.size)\n",
    "        list(map(lambda x, y: F.spliter(x, y, ps=j), suffs, clses))\n",
    "        F.dicsort()\n",
    "        # l, mi, ma = F.tolist()\n",
    "        # print(mi, ma)\n",
    "        gf = np.array(list(map(lambda x: F.get_feature(x, ps=j), suffs)))\n",
    "        gf_t = np.array(list(map(lambda x: F.get_feature(x, ps=j), suffs_t)))\n",
    "        raw['r'+str(i)+'_'+str(j)] = pd.DataFrame(gf)\n",
    "        fff_test['r'+str(i)+'_'+str(j)] = pd.DataFrame(gf_t)\n",
    "\n",
    "tit = np.array(list(map(lambda x: 1.0 if x.istitle() else 0.0, raw[0].values)))\n",
    "raw['tit'] = pd.DataFrame(tit)\n",
    "tit = np.array(list(map(lambda x: 1.0 if x.istitle() else 0.0, fff_test[0].values)))\n",
    "fff_test['tit'] = pd.DataFrame(tit)\n",
    "\n",
    "caps = np.array(list(map(lambda x: 1.0 if x.isupper() else 0.0, raw[0].values)))\n",
    "raw['caps'] = pd.DataFrame(caps)\n",
    "caps = np.array(list(map(lambda x: 1.0 if x.isupper() else 0.0, fff_test[0].values)))\n",
    "fff_test['caps'] = pd.DataFrame(caps)\n",
    "\n",
    "raw.head()\n",
    "fff_test.head()"
   ]
  },
  {
   "cell_type": "code",
   "execution_count": 14,
   "metadata": {
    "collapsed": false
   },
   "outputs": [
    {
     "name": "stdout",
     "output_type": "stream",
     "text": [
      "0.938268060422\n"
     ]
    },
    {
     "data": {
      "image/png": "[encoded data removed]",
      "text/plain": [
       "<matplotlib.figure.Figure at 0xda71d68>"
      ]
     },
     "metadata": {},
     "output_type": "display_data"
    }
   ],
   "source": [
    "from sklearn import linear_model\n",
    "from sklearn.model_selection import train_test_split, cross_val_score, cross_val_predict\n",
    "from sklearn.metrics import accuracy_score, roc_curve, auc\n",
    "from sklearn.ensemble import GradientBoostingClassifier\n",
    "X = raw.drop([0, 1], axis=1).values\n",
    "Y = clses\n",
    "# X_test = np.array(list(map(F.get_feature, suffs)))\n",
    "X_train, X_test, y_train, y_test = train_test_split(\n",
    "    X, Y, test_size=0.7, random_state=42)\n",
    "\n",
    "# clf = linear_model.SGDClassifier(loss='log', penalty='l1')\n",
    "# clf = linear_model.LogisticRegressionCV(penalty='l2', cv=20)\n",
    "clf = GradientBoostingClassifier(n_estimators=100, random_state=42, max_depth=7)\n",
    "clf.fit(X_train, y_train)\n",
    "y_score = clf.decision_function(X_test)\n",
    "# print(y_score)\n",
    "fpr, tpr, _ = roc_curve(y_test, y_score)\n",
    "roc_auc = auc(fpr, tpr)\n",
    "print(roc_auc)\n",
    "plt.plot(fpr, tpr)\n",
    "plt.show()"
   ]
  },
  {
   "cell_type": "code",
   "execution_count": null,
   "metadata": {
    "collapsed": true
   },
   "outputs": [],
   "source": [
    "# fff = pd.read_csv('linear_test.txt', header=None)\n",
    "# # fff\n",
    "# # file = open('linear_test.txt', 'r')\n",
    "# # lo = list(map(lambda x: [x[0], float(x[1])], map(lambda x: x.split(', '), map(str.rstrip, file.readlines()))))\n",
    "# # file.close()\n",
    "# # raw = pd.DataFrame(lo)\n",
    "# f = np.vectorize(lambda x: x[-5:])\n",
    "# slow = np.vectorize(str.lower)\n",
    "# # suffs = slow(f(raw[0].values))\n",
    "# # f = np.vectorize(lambda x: x[-5:])\n",
    "# suffs = slow(f(fff[0].values))\n",
    "# # clses = fff[1].values"
   ]
  },
  {
   "cell_type": "code",
   "execution_count": 17,
   "metadata": {
    "collapsed": false
   },
   "outputs": [
    {
     "name": "stdout",
     "output_type": "stream",
     "text": [
      "70986 188920\n"
     ]
    }
   ],
   "source": [
    "from sklearn import linear_model\n",
    "from sklearn.model_selection import train_test_split, cross_val_score, cross_val_predict\n",
    "from sklearn.metrics import accuracy_score, roc_curve, auc\n",
    "X = raw.drop([0, 1], axis=1).values\n",
    "X_t = fff_test.drop([0], axis=1).values\n",
    "Y = clses\n",
    "\n",
    "# clf = linear_model.SGDClassifier(loss='log', penalty='l1')\n",
    "# clf = linear_model.LogisticRegressionCV()\n",
    "clf = GradientBoostingClassifier(n_estimators=100, random_state=42, max_depth=7)\n",
    "clf.fit(X, Y)\n",
    "y_pred = clf.predict(X_t)\n",
    "res = pd.DataFrame(y_pred)\n",
    "res.to_csv('min_4.txt')\n",
    "print(y_test.size, y_pred.size)"
   ]
  },
  {
   "cell_type": "code",
   "execution_count": null,
   "metadata": {
    "collapsed": true
   },
   "outputs": [],
   "source": []
  }
 ],
 "metadata": {
  "kernelspec": {
   "display_name": "Python 3",
   "language": "python",
   "name": "python3"
  }
 },
 "nbformat": 4,
 "nbformat_minor": 2
}
